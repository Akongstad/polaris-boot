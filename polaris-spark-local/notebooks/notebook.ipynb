{
 "cells": [
  {
   "cell_type": "code",
   "execution_count": 15,
   "id": "9821638d-e761-4fab-88dc-0d6719504677",
   "metadata": {
    "editable": true,
    "slideshow": {
     "slide_type": ""
    },
    "tags": []
   },
   "outputs": [
    {
     "name": "stdout",
     "output_type": "stream",
     "text": [
      "Spark Running\n"
     ]
    }
   ],
   "source": [
    "from pyspark.sql import SparkSession\n",
    "\n",
    "## DEFINE SENSITIVE VARIABLES\n",
    "POLARIS_URI = 'http://polaris:8181/api/catalog'\n",
    "POLARIS_CATALOG_NAME = 'polariscatalog'\n",
    "ENGINEER_CLIENT_ID = 'acb1adbc4ded711c'\n",
    "ENGINEER_CLIENT_SECRET = 'a4e7cebf9061030b6d18a0c75fb7f811'\n",
    "HR_CLIENT_ID = 'd2329bb78e4b35e4'\n",
    "HR_CLIENT_SECRET= 'b7d78348ba458e68ea406a58d6badf1c'\n",
    "POLARIS_SCOPE = 'PRINCIPAL_ROLE:ALL'\n",
    "\n",
    "\n",
    "spark = (SparkSession.builder\n",
    "  .config(\"spark.sql.catalog.spark_catalog\", \"org.apache.iceberg.spark.SparkSessionCatalog\")\n",
    "  .config(\"spark.jars.packages\", \"org.apache.iceberg:iceberg-spark-runtime-3.5_2.12:1.7.1,org.apache.hadoop:hadoop-aws:3.4.0,software.amazon.awssdk:bundle:2.23.19,software.amazon.awssdk:url-connection-client:2.23.19\")\n",
    "  .config('spark.sql.iceberg.vectorization.enabled', 'false')\n",
    "         \n",
    "  # Configure the 'polaris' catalog as an Iceberg rest catalog\n",
    "  .config(\"spark.sql.catalog.polaris.type\", \"rest\")\n",
    "  .config(\"spark.sql.catalog.polaris\", \"org.apache.iceberg.spark.SparkCatalog\")\n",
    "  # Specify the rest catalog endpoint       \n",
    "  .config(\"spark.sql.catalog.polaris.uri\", POLARIS_URI)\n",
    "  # Enable token refresh\n",
    "  .config(\"spark.sql.catalog.polaris.token-refresh-enabled\", \"true\")\n",
    "  # specify the client_id:client_secret pair\n",
    "  #.config(\"spark.sql.catalog.polaris.credential\", f\"{ENGINEER_CLIENT_ID}:{ENGINEER_CLIENT_SECRET}\")\n",
    "  .config(\"spark.sql.catalog.polaris.credential\", f\"{HR_CLIENT_ID}:{HR_CLIENT_SECRET}\")\n",
    "  # Set the warehouse to the name of the catalog we created\n",
    "  .config(\"spark.sql.catalog.polaris.warehouse\", POLARIS_CATALOG_NAME)\n",
    "\n",
    "  # Scope set to PRINCIPAL_ROLE:ALL\n",
    "  .config(\"spark.sql.catalog.polaris.scope\", POLARIS_SCOPE)\n",
    "\n",
    "  # Enable access credential delegation\n",
    "  .config(\"spark.sql.catalog.polaris.header.X-Iceberg-Access-Delegation\", 'vended-credentials')\n",
    "\n",
    "  .config(\"spark.sql.catalog.polaris.io-impl\", \"org.apache.iceberg.io.ResolvingFileIO\")\n",
    "  #.config(\"spark.sql.catalog.polaris.s3.region\", \"us-west-2\")\n",
    "  .config(\"spark.history.fs.logDirectory\", \"/home/iceberg/spark-events\")).getOrCreate()\n",
    "\n",
    "## Start Spark Session\n",
    "print(\"Spark Running\")\n"
   ]
  },
  {
   "cell_type": "code",
   "execution_count": 16,
   "id": "0dd9fa09-d999-4224-9148-3f2323fc4f49",
   "metadata": {},
   "outputs": [
    {
     "name": "stdout",
     "output_type": "stream",
     "text": [
      "+-----------+\n",
      "|  namespace|\n",
      "+-----------+\n",
      "|ANDREAS_DEV|\n",
      "+-----------+\n",
      "\n"
     ]
    }
   ],
   "source": [
    "## Tell Spark to use the Polaris catalog\n",
    "spark.sql(\"USE polaris\")\n",
    "spark.sql(\"SHOW NAMESPACES\").show()"
   ]
  },
  {
   "cell_type": "code",
   "execution_count": 5,
   "id": "117bcac8-641d-4956-831a-2d1dff8d304e",
   "metadata": {},
   "outputs": [
    {
     "name": "stdout",
     "output_type": "stream",
     "text": [
      "+------------------+\n",
      "|         namespace|\n",
      "+------------------+\n",
      "|ANDREAS_DEV.PUBLIC|\n",
      "+------------------+\n",
      "\n"
     ]
    }
   ],
   "source": [
    "## Create Nested Namespaces\n",
    "spark.sql(\"CREATE NAMESPACE IF NOT EXISTS ANDREAS_DEV\")\n",
    "spark.sql(\"CREATE NAMESPACE IF NOT EXISTS ANDREAS_DEV.PUBLIC\")\n",
    "spark.sql(\"SHOW NAMESPACES IN ANDREAS_DEV\").show()"
   ]
  },
  {
   "cell_type": "code",
   "execution_count": 17,
   "id": "ee2fc80e-e0a3-49f9-85d7-d8c9154fd060",
   "metadata": {},
   "outputs": [
    {
     "name": "stdout",
     "output_type": "stream",
     "text": [
      "++\n",
      "||\n",
      "++\n",
      "++\n",
      "\n"
     ]
    }
   ],
   "source": [
    "## Create a table\n",
    "spark.sql(\"\"\"CREATE TABLE IF NOT EXISTS ANDREAS_DEV.PUBLIC.engineers (\n",
    "    id bigint NOT NULL COMMENT 'unique id',\n",
    "    name string,\n",
    "    role string)\n",
    "USING iceberg;\n",
    "\"\"\").show()"
   ]
  },
  {
   "cell_type": "code",
   "execution_count": 19,
   "id": "12a5a91d-2230-4e48-8215-6cdde69831ac",
   "metadata": {},
   "outputs": [
    {
     "name": "stdout",
     "output_type": "stream",
     "text": [
      "++\n",
      "||\n",
      "++\n",
      "++\n",
      "\n",
      "+---+----------------+--------+\n",
      "| id|            name|    role|\n",
      "+---+----------------+--------+\n",
      "|  1|Andreas Kongstad|engineer|\n",
      "|  2|      Carl Bruun|engineer|\n",
      "|  1|Andreas Kongstad|engineer|\n",
      "|  2|      Carl Bruun|engineer|\n",
      "|  1|Andreas Kongstad|engineer|\n",
      "|  2|      Carl Bruun|engineer|\n",
      "|  1|Andreas Kongstad|engineer|\n",
      "|  2|      Carl Bruun|engineer|\n",
      "|  1|Andreas Kongstad|engineer|\n",
      "|  2|      Carl Bruun|engineer|\n",
      "+---+----------------+--------+\n",
      "\n"
     ]
    }
   ],
   "source": [
    "## Insert Records\n",
    "spark.sql(\"INSERT INTO ANDREAS_DEV.PUBLIC.engineers VALUES (1, 'Andreas Kongstad', 'engineer'), (2, 'Carl Bruun','engineer')\").show()\n",
    "spark.sql(\"SELECT * FROM ANDREAS_DEV.PUBLIC.engineers\").show()"
   ]
  }
 ],
 "metadata": {
  "kernelspec": {
   "display_name": "Python 3 (ipykernel)",
   "language": "python",
   "name": "python3"
  },
  "language_info": {
   "codemirror_mode": {
    "name": "ipython",
    "version": 3
   },
   "file_extension": ".py",
   "mimetype": "text/x-python",
   "name": "python",
   "nbconvert_exporter": "python",
   "pygments_lexer": "ipython3",
   "version": "3.9.2"
  }
 },
 "nbformat": 4,
 "nbformat_minor": 5
}
